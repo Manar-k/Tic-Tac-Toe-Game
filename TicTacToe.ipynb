{
  "nbformat": 4,
  "nbformat_minor": 0,
  "metadata": {
    "colab": {
      "provenance": []
    },
    "kernelspec": {
      "name": "python3",
      "display_name": "Python 3"
    },
    "language_info": {
      "name": "python"
    }
  },
  "cells": [
    {
      "cell_type": "markdown",
      "source": [
        "#Tic-Tac-Toe Game\n",
        "##Scenario\n",
        "Your task is to write a simple program which pretends to play tic-tac-toe with the user. To make it all easier for you, we've decided to simplify the game. Here are our assumptions:\n",
        "\n",
        "the computer (i.e., your program) should play the game using 'X's;\n",
        "the user (e.g., you) should play the game using 'O's;\n",
        "the first move belongs to the computer − it always puts its first 'X' in the middle of the board;\n",
        "all the squares are numbered row by row starting with 1.\n",
        "the user inputs their move by entering the number of the square they choose − the number must be valid, i.e., it must be an integer, it must be greater than 0 and less than 10, and it cannot point to a field which is already occupied;\n",
        "the program checks if the game is over − there are four possible verdicts: the game should continue, the game ends with a tie, you win, or the computer wins;\n",
        "the computer responds with its move and the check is repeated;\n",
        "don't implement any form of artificial intelligence − a random field choice made by the computer is good enough for the game.\n",
        "\n",
        "##Requirements\n",
        "Implement the following features:\n",
        "\n",
        "the board should be stored as a three-element list, while each element is another three-element list (the inner lists represent rows) so that all of the squares may be accessed using the following syntax:\n",
        "\n",
        "#####board[row][column]\n",
        "\n",
        "each of the inner list's elements can contain 'O', 'X', or a digit representing the square's number (such a square is considered free)\n",
        "the board's appearance should be exactly the same as the one presented in the example.\n",
        "implement the functions defined for you in the editor.\n",
        "\n",
        "Drawing a random integer number can be done by utilizing a Python function called randrange(). \n"
      ],
      "metadata": {
        "id": "d4rXfoJySvW4"
      }
    },
    {
      "cell_type": "code",
      "source": [
        "from random import randrange\n",
        "import random\n",
        "board = [[\"1\", \"2\", \"3\"],\n",
        "         [\"4\", \"X\", \"6\"],\n",
        "         [\"7\", \"8\", \"9\"]]"
      ],
      "metadata": {
        "id": "X6X91YS8TyuX"
      },
      "execution_count": 1,
      "outputs": []
    },
    {
      "cell_type": "code",
      "source": [
        "# The function accepts one parameter containing the board's current status and prints it out to the console.\n",
        "def display_board(board):\n",
        "  for i in board:\n",
        "    for j in i:\n",
        "      print(j,end = \" \")\n",
        "    print()"
      ],
      "metadata": {
        "id": "WpZ8ZJjcSNpe"
      },
      "execution_count": 2,
      "outputs": []
    },
    {
      "cell_type": "code",
      "source": [
        "# The function accepts the board's current status, asks the user about their move,\n",
        "# checks the input, and updates the board according to the user's decision.\n",
        "def enter_move(board):\n",
        "  move = input(\"Enter your move: \")\n",
        "  for i in range(len(board)):\n",
        "    for j in range(len(board[i])):\n",
        "      if board[i][j] == move:\n",
        "        board[i][j]= \"O\"\n",
        "        return tuple((i, j))\n",
        "        break"
      ],
      "metadata": {
        "id": "DOkLuNbUSN4W"
      },
      "execution_count": 20,
      "outputs": []
    },
    {
      "cell_type": "code",
      "source": [
        "# The function browses the board and builds a list of all the free squares;\n",
        "# the list consists of tuples, while each tuple is a pair of row and column numbers.\n",
        "def make_list_of_free_fields(board):\n",
        "  empty = []\n",
        "  for i in range(len(board)):\n",
        "      for j in range(len(board[i])):\n",
        "        if board[i][j] == \"O\" or board[i][j] == \"X\":\n",
        "          continue\n",
        "        empty.append(tuple((i, j)))\n",
        "  return empty"
      ],
      "metadata": {
        "id": "RMHWrsMrSN7n"
      },
      "execution_count": 4,
      "outputs": []
    },
    {
      "cell_type": "code",
      "source": [
        "from pickle import TRUE\n",
        "# The function analyzes the board's status in order to check if\n",
        "# the player using 'O's or 'X's has won the game\n",
        "def victory_for(board, sign):\n",
        "  # 8 won cases\n",
        "  case1 = [[sign, sign, sign], [\"0\", \"0\", \"0\"], [\"0\", \"0\", \"0\"]]\n",
        "  case2 = [[\"0\", \"0\", \"0\"], [sign, sign, sign], [\"0\", \"0\", \"0\"]]\n",
        "  case3 = [[\"0\", \"0\", \"0\"], [\"0\", \"0\", \"0\"], [sign, sign, sign]]\n",
        "  case4 = [[sign, \"0\", \"0\"], [sign, \"0\", \"0\"], [sign, \"0\", \"0\"]]\n",
        "  case5 = [[\"0\", sign, \"0\"], [\"0\", sign, \"0\"], [\"0\", sign, \"0\"]]\n",
        "  case6 = [[\"0\", \"0\", sign], [\"0\", \"0\", sign], [\"0\", \"0\", sign]]\n",
        "  case7 = [[sign, \"0\", \"0\"], [\"0\", sign, \"0\"], [\"0\", \"0\", sign]]\n",
        "  case8 = [[\"0\", \"0\", sign], [\"0\", sign, \"0\"], [sign, \"0\", \"0\"]]\n",
        "  # check row by row\n",
        "  for i in range(len(board)):\n",
        "      if board[i] == case1[i] or board[i] == case2[i] or board[i] == case3[i]:\n",
        "        return True\n",
        "\n",
        "  # check column by column\n",
        "  for j in range(len(board)):\n",
        "    if board[0][j] == case4[0][j] and board[1][j] == case4[1][j] and board[2][j] == case4[2][j]:\n",
        "      return True\n",
        "    elif board[0][j] == case5[0][j] and board[1][j] == case5[1][j] and board[2][j] == case5[2][j]:\n",
        "      return True\n",
        "    elif board[0][j] == case6[0][j] and board[1][j] == case6[1][j] and board[2][j] == case6[2][j]:\n",
        "      return True\n",
        "\n",
        "  # check diagonal by diagonal\n",
        "  if board[0][0] == case7[0][0] and board[1][1] == case7[1][1] and board[2][2] == case7[2][2]:\n",
        "    return True\n",
        "  elif board[0][2] == case8[0][2] and board[1][1] == case8[1][1] and board[2][0] == case8[2][0]:\n",
        "    return True\n",
        "\n"
      ],
      "metadata": {
        "id": "6aLMICAtSN-Z"
      },
      "execution_count": 5,
      "outputs": []
    },
    {
      "cell_type": "code",
      "source": [
        "# The function draws the computer's move and updates the board.\n",
        "def draw_move(board):\n",
        "  list1 = make_list_of_free_fields(board)\n",
        "\n",
        "  # random numbers of the empty play place\n",
        "  listRandom = []\n",
        "  for x in range(len(list1)):\n",
        "    i, j = list1[x]\n",
        "    listRandom.append(board[i][j])\n",
        "\n",
        "  randnum = random.choice(listRandom)\n",
        "  for x in range(len(list1)):\n",
        "      i, j = list1[x]\n",
        "      if board[i][j] == randnum:\n",
        "            board[i][j] = \"X\"\n",
        "            break"
      ],
      "metadata": {
        "id": "HGSxBhPuSOBw"
      },
      "execution_count": 6,
      "outputs": []
    },
    {
      "cell_type": "code",
      "source": [
        "# the main\n",
        "def main():\n",
        "  refrest_board = [[\"1\", \"2\", \"3\"], [\"4\", \"X\", \"6\"], [\"7\", \"8\", \"9\"]]\n",
        "  board = refrest_board.copy()\n",
        "  while True:\n",
        "    display_board(board)\n",
        "    list = make_list_of_free_fields(board)\n",
        "    while True:\n",
        "      if enter_move(board) not in list:\n",
        "        print(\"Please enter a number from the above board. \\n Try again: \")\n",
        "      else:\n",
        "        break\n",
        "\n",
        "\n",
        "    if victory_for(board, \"O\") == True:\n",
        "      display_board(board)\n",
        "      print(\"*** Player O won the game! ***\")\n",
        "      break\n",
        "    elif len(make_list_of_free_fields(board)) == 0:\n",
        "      display_board(board)\n",
        "      print(\"*** It is Tie! ***\")\n",
        "      break\n",
        "\n",
        "    make_list_of_free_fields(board)\n",
        "    draw_move(board)\n",
        "    \n",
        "    if victory_for(board, \"X\") == True:\n",
        "      display_board(board)\n",
        "      print(\"*** Computer X won the game! ***\")\n",
        "      break\n",
        "    elif len(make_list_of_free_fields(board)) == 0:\n",
        "      display_board(board)\n",
        "      print(\"*** It is Tie! ***\")\n",
        "      break\n",
        "\n",
        "  restart = input('\\nWould you like to play again? Enter yes or no.\\n')\n",
        "  if restart.lower() == 'yes':\n",
        "    main()\n",
        "\n",
        "if __name__ == \"__main__\":\n",
        "  main()\n"
      ],
      "metadata": {
        "colab": {
          "base_uri": "https://localhost:8080/"
        },
        "id": "zKb7sq9BOWmU",
        "outputId": "b338ecfb-1676-4734-d914-8a88b124af87"
      },
      "execution_count": 41,
      "outputs": [
        {
          "name": "stdout",
          "output_type": "stream",
          "text": [
            "1 2 3 \n",
            "4 X 6 \n",
            "7 8 9 \n",
            "Enter your move: 1\n",
            "O 2 3 \n",
            "4 X X \n",
            "7 8 9 \n",
            "Enter your move: 4\n",
            "O 2 X \n",
            "O X X \n",
            "7 8 9 \n",
            "Enter your move: 7\n",
            "O 2 X \n",
            "O X X \n",
            "O 8 9 \n",
            "*** Player O won the game! ***\n",
            "\n",
            "Would you like to play again? Enter yes or no.\n",
            "no\n"
          ]
        }
      ]
    }
  ]
}